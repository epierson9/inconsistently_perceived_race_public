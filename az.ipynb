{
 "cells": [
  {
   "cell_type": "code",
   "execution_count": null,
   "metadata": {},
   "outputs": [],
   "source": [
    "%load_ext autoreload"
   ]
  },
  {
   "cell_type": "code",
   "execution_count": null,
   "metadata": {},
   "outputs": [],
   "source": [
    "# CONFIG (leave only one uncommented)\n",
    "config = { # VehicleStyle and Vehicle Year\n",
    "    \"grouping_keys\": ['SubjectFirstName', 'SubjectLastName', 'VehicleStyle', 'VehicleYear'],\n",
    "    \"descript\": \"_Style_Year\",\n",
    "    \"base_path\": 'replace-with-path-to-this-directory',\n",
    "    \"hispanic_white_drivers_only_csv_name\": \"az_hispanic_white_drivers_Style_Year.csv\",\n",
    "    \"standardize_format\": True\n",
    "}"
   ]
  },
  {
   "cell_type": "code",
   "execution_count": null,
   "metadata": {},
   "outputs": [],
   "source": [
    "# Set base path directory\n",
    "base_path = config['base_path']\n",
    "\n",
    "%cd $base_path\n",
    "\n",
    "!pwd"
   ]
  },
  {
   "cell_type": "code",
   "execution_count": null,
   "metadata": {},
   "outputs": [],
   "source": [
    "%autoreload 2\n",
    "import pandas as pd\n",
    "import math\n",
    "import statistics\n",
    "import numpy as np\n",
    "from matplotlib import pyplot as plt\n",
    "from collections import Counter\n",
    "from IPython.display import display\n",
    "\n",
    "from policing_data_expl import *"
   ]
  },
  {
   "cell_type": "markdown",
   "metadata": {},
   "source": [
    "# Verify Raw Data and Clean Data Match"
   ]
  },
  {
   "cell_type": "code",
   "execution_count": null,
   "metadata": {},
   "outputs": [],
   "source": [
    "filepath =  'path-to-AZ-data.csv'\n",
    "dtypes_dict = {k:str for k in config['grouping_keys']}\n",
    "az_data = standardize_cols('AZ', pd.read_csv(filepath, dtype=dtypes_dict))\n",
    "\n",
    "print(f'Rows: {len(az_data)}')"
   ]
  },
  {
   "cell_type": "code",
   "execution_count": null,
   "metadata": {},
   "outputs": [],
   "source": [
    "# 'completeness' (how many non-nan values there are) per column\n",
    "for column in az_data.columns:\n",
    "    print(column)\n",
    "    print('  ', get_percent_complete_column(az_data, column))"
   ]
  },
  {
   "cell_type": "code",
   "execution_count": null,
   "metadata": {},
   "outputs": [],
   "source": [
    "calc_complete_cols(az_data, config['grouping_keys'])"
   ]
  },
  {
   "cell_type": "markdown",
   "metadata": {},
   "source": [
    "# Construct Filtered Dataset"
   ]
  },
  {
   "cell_type": "code",
   "execution_count": null,
   "metadata": {},
   "outputs": [],
   "source": [
    "grouped_az = group_df_by(az_data, config['grouping_keys'], csv_filename='az_raw_with_driver_id' + config['descript'] + '.csv')\n",
    "\n",
    "def az_cond(name, entries):\n",
    "    \"\"\"\n",
    "    Only keep drivers \n",
    "    - with at least 2 entries (=at least 2 stops) but no more than 10 stps\n",
    "    - non-null + custom logic for driver_first_name, driver_last_name, DOB (=valid unique identifying features)\n",
    "    \"\"\"\n",
    "    return len(entries) >= 2 and len(entries) <= 10\n",
    "        \n",
    "csv_name = 'az_grouped' + config['descript'] + '.csv'\n",
    "check_cond(grouped_az, az_cond, csv_name)"
   ]
  },
  {
   "cell_type": "code",
   "execution_count": null,
   "metadata": {},
   "outputs": [],
   "source": [
    "csv_name = 'az_grouped' + config['descript'] + '.csv'\n",
    "azgrouped_csv = pd.read_csv(csv_name)\n",
    "\n",
    "azgrouped_csv[config['grouping_keys']] = azgrouped_csv[config['grouping_keys']].astype(str)\n",
    "\n",
    "az_grouped = azgrouped_csv.groupby(config['grouping_keys'])\n",
    "\n",
    "print(\"#rows of individuals stopped more than once:\", len(azgrouped_csv))\n",
    "print(\"#individuals stopped more than once:\", len(az_grouped))\n",
    "\n",
    "calc_mean_med_max_stops(az_grouped)\n",
    "plot_stop_freq_histogram(az_grouped)"
   ]
  },
  {
   "cell_type": "code",
   "execution_count": null,
   "metadata": {},
   "outputs": [],
   "source": [
    "calc_racial_ambig(az_grouped)\n",
    "\n",
    "enumerate_racial_ambig(az_grouped)"
   ]
  },
  {
   "cell_type": "code",
   "execution_count": null,
   "metadata": {},
   "outputs": [],
   "source": [
    "azgrouped_csv.head(50)"
   ]
  },
  {
   "cell_type": "markdown",
   "metadata": {},
   "source": [
    "# Calculate Stats for Racially Ambiguous Subset"
   ]
  },
  {
   "cell_type": "code",
   "execution_count": null,
   "metadata": {},
   "outputs": [],
   "source": [
    "person_race_dict = generate_person_race_dict(az_grouped)\n",
    "# make the grouping_keys into a tuple so it can be used as a key per person in person_race_dict\n",
    "tuple_lst = [tuple(keys) for keys in azgrouped_csv[config['grouping_keys']].values.tolist()]\n",
    "race_str_col = [person_race_dict[(keys)] for keys in tuple_lst]\n",
    "\n",
    "# call this new column race_str\n",
    "azgrouped_with_race_str = azgrouped_csv.copy()\n",
    "azgrouped_with_race_str.insert(2, \"race_str\", race_str_col, False)"
   ]
  },
  {
   "cell_type": "code",
   "execution_count": null,
   "metadata": {},
   "outputs": [],
   "source": [
    "stats_dict_lst = get_state_stats(azgrouped_csv, race_str_col, config['grouping_keys'])\n",
    "\n",
    "plot_state_stats(stats_dict_lst, 'AZ - ' + config['descript'])"
   ]
  },
  {
   "cell_type": "code",
   "execution_count": null,
   "metadata": {},
   "outputs": [],
   "source": [
    "# remove drivers with more than 10 stops\n",
    "az_with_drivers_less_than_10_stops = azgrouped_csv.groupby(config['grouping_keys']).filter(lambda x: len(x) <= 10).reset_index()\n",
    "\n",
    "# make the grouping_keys into a tuple so it can be used as a key per person in person_race_dict\n",
    "tuple_lst = [tuple(keys) for keys in az_with_drivers_less_than_10_stops[config['grouping_keys']].values.tolist()]\n",
    "race_str_col = [person_race_dict[(keys)] for keys in tuple_lst]\n",
    "\n",
    "# call this new column race_str\n",
    "# azgrouped_with_race_str = azgrouped_csv.copy()\n",
    "# azgrouped_with_race_str.insert(2, \"race_str\", race_str_col, False)\n",
    "\n",
    "stats_dict_lst = get_state_stats(az_with_drivers_less_than_10_stops, race_str_col, config['grouping_keys'])\n",
    "\n",
    "plot_state_stats(stats_dict_lst, 'AZ - ' + config['descript'])"
   ]
  },
  {
   "cell_type": "code",
   "execution_count": null,
   "metadata": {},
   "outputs": [],
   "source": [
    "print(ttest_unpaired(azgrouped_with_race_str))"
   ]
  },
  {
   "cell_type": "code",
   "execution_count": null,
   "metadata": {},
   "outputs": [],
   "source": [
    "print(ttest_paired(az_grouped))"
   ]
  },
  {
   "cell_type": "markdown",
   "metadata": {},
   "source": [
    "# white-Hispanic Drivers and Regressions"
   ]
  },
  {
   "cell_type": "code",
   "execution_count": null,
   "metadata": {},
   "outputs": [],
   "source": [
    "race_str_cond = azgrouped_with_race_str['race_str'].map(lambda x:x in {\"Hispanic_White\"})\n",
    "hispanic_white_drivers = azgrouped_with_race_str.loc[race_str_cond]\n",
    "\n",
    "print(len(hispanic_white_drivers))\n",
    "print(config['hispanic_white_drivers_only_csv_name'])\n",
    "write_to_csv(hispanic_white_drivers, config['hispanic_white_drivers_only_csv_name'])"
   ]
  },
  {
   "cell_type": "code",
   "execution_count": null,
   "metadata": {},
   "outputs": [],
   "source": [
    "azgrouped_with_race_str = pd.read_csv('az_hispanic_white_drivers' + config['descript'] + '.csv')\n",
    "print(azgrouped_with_race_str['officer_id'].value_counts())"
   ]
  },
  {
   "cell_type": "code",
   "execution_count": null,
   "metadata": {},
   "outputs": [],
   "source": [
    "az_hispanic_white_grouped = azgrouped_with_race_str.groupby(config['grouping_keys'])\n",
    "print(f'entries: {len(azgrouped_with_race_str)}')\n",
    "print(f'individuals: {len(az_hispanic_white_grouped)}')\n",
    "calc_mean_med_max_stops(az_hispanic_white_grouped)"
   ]
  },
  {
   "cell_type": "code",
   "execution_count": null,
   "metadata": {},
   "outputs": [],
   "source": [
    "res1 = regress(azgrouped_with_race_str, dep_var='search_conducted', cols=[], controls=[], model_name='No controls')\n",
    "res2 = regress(azgrouped_with_race_str, dep_var='search_conducted', cols=['stop_duration'], controls=['C(stop_duration)'], model_name='Control for stop duration')\n",
    "res3 = regress(azgrouped_with_race_str, dep_var='search_conducted', cols=['stop_duration', 'hour_of_day'], controls=['hour_of_day'], model_name='Control for hour of day (linear)')\n",
    "res4 = regress(azgrouped_with_race_str, dep_var='search_conducted', cols=['hour_of_day'], controls=['hour_of_day', 'I(hour_of_day**2)', 'I(hour_of_day**3)', 'I(hour_of_day**4)'], model_name='Control for hour of day (quartic)')\n",
    "res5 = regress(azgrouped_with_race_str, dep_var='search_conducted', cols=['county_fips'], controls=['C(county_fips)'], model_name='Control for county')\n",
    "res6 = regress(azgrouped_with_race_str, dep_var='search_conducted', cols=['officer_id'], controls=['C(officer_id)'], model_name='Control for officer id - drop absorbed', useFixedEffects=True, drop_absorbed=True)\n",
    "\n",
    "make_sensitivity_dot_plot([res1, res2, res3, res4, res5, res6], coef_to_plot='Hispanic', title='Hispanic search rate sensitivity to controls')"
   ]
  },
  {
   "cell_type": "markdown",
   "metadata": {},
   "source": [
    "# Years of the Data in the Analysis"
   ]
  },
  {
   "cell_type": "code",
   "execution_count": null,
   "metadata": {},
   "outputs": [],
   "source": [
    "az_complete = pd.read_csv('az_grouped' + config['descript'] + '.csv')"
   ]
  },
  {
   "cell_type": "code",
   "execution_count": null,
   "metadata": {},
   "outputs": [],
   "source": [
    "az_complete['DateOfStop'].map(lambda x: x[:4]).value_counts().sort_index()"
   ]
  },
  {
   "cell_type": "code",
   "execution_count": null,
   "metadata": {},
   "outputs": [],
   "source": [
    "az_hispanic_white = pd.read_csv(config['hispanic_white_drivers_only_csv_name'])"
   ]
  },
  {
   "cell_type": "code",
   "execution_count": null,
   "metadata": {},
   "outputs": [],
   "source": [
    "az_hispanic_white['DateOfStop'].map(lambda x: x[:4]).value_counts().sort_index()"
   ]
  },
  {
   "cell_type": "code",
   "execution_count": null,
   "metadata": {},
   "outputs": [],
   "source": [
    "az_raw = pd.read_csv('path-to-AZ-data.csv')"
   ]
  },
  {
   "cell_type": "code",
   "execution_count": null,
   "metadata": {},
   "outputs": [],
   "source": [
    "az_raw['DateOfStop'].map(lambda x: x[:4]).value_counts().sort_index()"
   ]
  },
  {
   "cell_type": "markdown",
   "metadata": {},
   "source": [
    "# Comparing a Couple Subsets of the Population"
   ]
  },
  {
   "cell_type": "code",
   "execution_count": null,
   "metadata": {},
   "outputs": [],
   "source": [
    "plot_search_rates_comparison('Arizona', 'search_conducted', az_data, azgrouped_csv, azgrouped_with_race_str)\n",
    "plot_search_rates_comparison('Arizona', 'is_arrested', az_data, azgrouped_csv, azgrouped_with_race_str)"
   ]
  },
  {
   "cell_type": "markdown",
   "metadata": {},
   "source": [
    "## All Drivers, white or Hispanic"
   ]
  },
  {
   "cell_type": "code",
   "execution_count": null,
   "metadata": {},
   "outputs": [],
   "source": [
    "plot_top_5_col_values(az_data, azgrouped_csv, 'violation')\n",
    "plot_top_5_col_values(az_data, azgrouped_csv, 'county_name')"
   ]
  },
  {
   "cell_type": "markdown",
   "metadata": {},
   "source": [
    "## Multiply Stopped Drivers, white or Hispanic"
   ]
  },
  {
   "cell_type": "code",
   "execution_count": null,
   "metadata": {},
   "outputs": [],
   "source": [
    "plot_top_5_col_values(azgrouped_csv, 'violation')\n",
    "plot_top_5_col_values(azgrouped_csv, 'county_name')"
   ]
  },
  {
   "cell_type": "markdown",
   "metadata": {},
   "source": [
    "## Multiply Stopped Drivers with white/Hispanic Racial Ambiguity"
   ]
  },
  {
   "cell_type": "code",
   "execution_count": null,
   "metadata": {},
   "outputs": [],
   "source": [
    "plot_top_5_col_values(azgrouped_with_race_str, 'violation')\n",
    "plot_top_5_col_values(azgrouped_with_race_str, 'county_name')"
   ]
  }
 ],
 "metadata": {
  "kernelspec": {
   "display_name": "Python [conda env:.conda-myenv2] *",
   "language": "python",
   "name": "conda-env-.conda-myenv2-py"
  },
  "language_info": {
   "codemirror_mode": {
    "name": "ipython",
    "version": 3
   },
   "file_extension": ".py",
   "mimetype": "text/x-python",
   "name": "python",
   "nbconvert_exporter": "python",
   "pygments_lexer": "ipython3",
   "version": "3.11.8"
  }
 },
 "nbformat": 4,
 "nbformat_minor": 2
}
