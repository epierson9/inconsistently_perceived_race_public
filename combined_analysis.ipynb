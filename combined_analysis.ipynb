{
 "cells": [
  {
   "cell_type": "code",
   "execution_count": null,
   "metadata": {},
   "outputs": [],
   "source": [
    "%load_ext autoreload"
   ]
  },
  {
   "cell_type": "code",
   "execution_count": null,
   "metadata": {},
   "outputs": [],
   "source": [
    "# Set base path directory\n",
    "base_path = 'replace-with-path-to-this-directory'\n",
    "\n",
    "%cd $base_path\n",
    "\n",
    "!pwd"
   ]
  },
  {
   "cell_type": "code",
   "execution_count": null,
   "metadata": {},
   "outputs": [],
   "source": [
    "%autoreload 2\n",
    "import pandas as pd\n",
    "from policing_data_expl import *"
   ]
  },
  {
   "cell_type": "markdown",
   "metadata": {},
   "source": [
    "# Search Rate Analysis"
   ]
  },
  {
   "cell_type": "code",
   "execution_count": null,
   "metadata": {},
   "outputs": [],
   "source": [
    "az_data = pd.read_csv('az_hispanic_white_drivers_Style_Year.csv')\n",
    "az_data['driver_id'] = az_data['driver_id'].apply(lambda i: f'az-{i}')\n",
    "\n",
    "co_data = pd.read_csv('co_hispanic_white_drivers_dob.csv')\n",
    "co_data['driver_id'] = co_data['driver_id'].apply(lambda i: f'co-{i}')\n",
    "\n",
    "tx_data = pd.read_csv('tx_processed_hispanic_white_drivers_driver_race_raw_outcome.csv')\n",
    "tx_data['driver_id'] = tx_data['driver_id'].apply(lambda i: f'tx-{i}')\n",
    "tx_data['driver_race'] = tx_data['driver_race_raw']\n",
    "tx_data['stop_time'] = tx_data['time']\n",
    "tx_data['stop_date'] = tx_data['date']\n"
   ]
  },
  {
   "cell_type": "code",
   "execution_count": null,
   "metadata": {},
   "outputs": [],
   "source": [
    "combined_dataset = pd.concat([az_data, co_data, tx_data])\n",
    "\n",
    "combined_dataset"
   ]
  },
  {
   "cell_type": "code",
   "execution_count": null,
   "metadata": {},
   "outputs": [],
   "source": [
    "print(f'total rows: {len(combined_dataset)}')\n",
    "print(f\"non-null search_conducted rows: {combined_dataset['search_conducted'].notnull().sum()}\")"
   ]
  },
  {
   "cell_type": "code",
   "execution_count": null,
   "metadata": {},
   "outputs": [],
   "source": [
    "print(f\"az data: {az_data['search_conducted'].value_counts().sum()}/{len(az_data)}\")\n",
    "print(f\"co data: {co_data['search_conducted'].value_counts().sum()}/{len(co_data)}\")\n",
    "print(f\"tx data: {tx_data['search_conducted'].value_counts().sum()}/{len(tx_data)}\")\n",
    "\n",
    "print(f\"total: {az_data['search_conducted'].value_counts().sum() + co_data['search_conducted'].value_counts().sum() + tx_data['search_conducted'].value_counts().sum()}/{len(combined_dataset)}\")"
   ]
  },
  {
   "cell_type": "code",
   "execution_count": null,
   "metadata": {},
   "outputs": [],
   "source": [
    "combined_dataset = pd.read_csv('combined_dataset.csv')"
   ]
  },
  {
   "cell_type": "code",
   "execution_count": null,
   "metadata": {},
   "outputs": [],
   "source": [
    "res1 = regress(combined_dataset, dep_var='search_conducted', cols=[], controls=[], model_name='No controls', useFixedEffects=True)"
   ]
  },
  {
   "cell_type": "code",
   "execution_count": null,
   "metadata": {},
   "outputs": [],
   "source": [
    "# write_to_csv(combined_dataset, 'combined_dataset.csv')"
   ]
  },
  {
   "cell_type": "markdown",
   "metadata": {},
   "source": [
    "# Similarities across Subsets"
   ]
  },
  {
   "cell_type": "code",
   "execution_count": null,
   "metadata": {},
   "outputs": [],
   "source": [
    "az_data_dict = get_state_data('az')\n",
    "co_data_dict = get_state_data('co')\n",
    "tx_data_dict = get_state_data('tx')"
   ]
  },
  {
   "cell_type": "code",
   "execution_count": null,
   "metadata": {},
   "outputs": [],
   "source": [
    "plot_search_rates_comparison_all_states(az_data_dict, co_data_dict, tx_data_dict, 'search_conducted')"
   ]
  },
  {
   "cell_type": "code",
   "execution_count": null,
   "metadata": {},
   "outputs": [],
   "source": [
    "plot_search_rates_comparison_all_states(az_data_dict, co_data_dict, tx_data_dict, 'is_arrested')"
   ]
  },
  {
   "cell_type": "code",
   "execution_count": null,
   "metadata": {},
   "outputs": [],
   "source": [
    "plot_top_5_col_values_all_states(az_data_dict, co_data_dict, tx_data_dict, 'violation')"
   ]
  }
 ],
 "metadata": {
  "kernelspec": {
   "display_name": "Python [conda env:.conda-myenv2] *",
   "language": "python",
   "name": "conda-env-.conda-myenv2-py"
  },
  "language_info": {
   "codemirror_mode": {
    "name": "ipython",
    "version": 3
   },
   "file_extension": ".py",
   "mimetype": "text/x-python",
   "name": "python",
   "nbconvert_exporter": "python",
   "pygments_lexer": "ipython3",
   "version": "3.11.8"
  }
 },
 "nbformat": 4,
 "nbformat_minor": 2
}
