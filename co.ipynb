{
 "cells": [
  {
   "cell_type": "code",
   "execution_count": null,
   "metadata": {},
   "outputs": [],
   "source": [
    "%load_ext autoreload"
   ]
  },
  {
   "cell_type": "code",
   "execution_count": null,
   "metadata": {},
   "outputs": [],
   "source": [
    "# CONFIG (leave only one uncommented)\n",
    "config = { # reprocessed officer id\n",
    "    \"grouping_keys\": ['driver_first_name', 'driver_last_name', 'DOB'],\n",
    "    \"descript\": \"_mod_officer_id\",\n",
    "    \"base_path\": 'replace-with-path-to-this-directory',\n",
    "    \"csv_name\": 'path-to-CO-data.csv',\n",
    "    \"hispanic_white_drivers_only_csv_name\": 'co_hispanic_white_drivers_only_mod.csv'\n",
    "}"
   ]
  },
  {
   "cell_type": "code",
   "execution_count": null,
   "metadata": {},
   "outputs": [],
   "source": [
    "# Set base path directory\n",
    "base_path = config['base_path']\n",
    "\n",
    "%cd $base_path\n",
    "\n",
    "!pwd"
   ]
  },
  {
   "cell_type": "code",
   "execution_count": null,
   "metadata": {},
   "outputs": [],
   "source": [
    "%autoreload 2\n",
    "import pandas as pd\n",
    "import math\n",
    "import statistics\n",
    "import numpy as np\n",
    "from matplotlib import pyplot as plt\n",
    "from collections import Counter\n",
    "from IPython.display import display\n",
    "\n",
    "from policing_data_expl import *"
   ]
  },
  {
   "cell_type": "markdown",
   "metadata": {},
   "source": [
    "# Verify Raw Data and Clean Data Match"
   ]
  },
  {
   "cell_type": "code",
   "execution_count": null,
   "metadata": {},
   "outputs": [],
   "source": [
    "filepath = config['csv_name']\n",
    "dtypes_dict = {k:str for k in config['grouping_keys']}\n",
    "co_data = standardize_cols('CO', pd.read_csv(filepath, dtype=dtypes_dict))\n",
    "\n",
    "print(f'Rows: {len(co_data)}')"
   ]
  },
  {
   "cell_type": "markdown",
   "metadata": {},
   "source": [
    "# Checking Officer ID (Modified now to be the officer first name + last name)"
   ]
  },
  {
   "cell_type": "code",
   "execution_count": null,
   "metadata": {},
   "outputs": [],
   "source": [
    "co_data['officer_id']"
   ]
  },
  {
   "cell_type": "code",
   "execution_count": null,
   "metadata": {},
   "outputs": [],
   "source": [
    "display(co_data[['officer_id', 'officer_first_name', 'officer_last_name']])\n",
    "officer_info = co_data[['officer_id', 'officer_first_name', 'officer_last_name']]\n",
    "display(officer_info.groupby(['officer_last_name', 'officer_first_name']).size().reset_index(name='count').sort_values(by='count', ascending=False))\n",
    "\n",
    "officer_info[(officer_info['officer_first_name'] == 'Scott') & (officer_info['officer_last_name'] == 'Fenwick')].value_counts()"
   ]
  },
  {
   "cell_type": "code",
   "execution_count": null,
   "metadata": {},
   "outputs": [],
   "source": [
    "# 'completeness' (how many non-nan values there are) per column\n",
    "for column in co_data.columns:\n",
    "    print(column)\n",
    "    print('  ', get_percent_complete_column(co_data, column))"
   ]
  },
  {
   "cell_type": "code",
   "execution_count": null,
   "metadata": {},
   "outputs": [],
   "source": [
    "calc_complete_cols(co_data, config['grouping_keys'])"
   ]
  },
  {
   "cell_type": "markdown",
   "metadata": {},
   "source": [
    "# Construct Filtered Dataset"
   ]
  },
  {
   "cell_type": "code",
   "execution_count": null,
   "metadata": {},
   "outputs": [],
   "source": [
    "grouped_co = group_df_by(co_data, config['grouping_keys'], csv_filename='co_raw_with_driver_id' + config['descript'] + '.csv')\n",
    "\n",
    "def co_cond(name, entries):\n",
    "    \"\"\"\n",
    "    Only keep drivers \n",
    "    - with at least 2 entries (=at least 2 stops but no more than 10 stops)\n",
    "    - non-null + custom logic for driver_first_name, driver_last_name, DOB (=valid unique identifying features)\n",
    "    \"\"\"\n",
    "    f, l, dob = name\n",
    "    return len(entries) >= 2 and len(entries) <= 10 and \\\n",
    "        (l != \"NOT OBTAINED\" and l != \"--\" and len(f) > 1 and len(l) > 1)\n",
    "        \n",
    "csv_name = 'co_grouped' + config['descript'] + '.csv'\n",
    "check_cond(grouped_co, co_cond, csv_name)"
   ]
  },
  {
   "cell_type": "code",
   "execution_count": null,
   "metadata": {},
   "outputs": [],
   "source": [
    "csv_name = 'co_grouped' + config['descript'] + '.csv'\n",
    "cogrouped_csv = pd.read_csv(csv_name)\n",
    "\n",
    "co_grouped = cogrouped_csv.groupby(config['grouping_keys'])\n",
    "\n",
    "print(\"#rows of individuals stopped more than once:\", len(cogrouped_csv))\n",
    "print(\"#individuals stopped more than once:\", len(co_grouped))\n",
    "\n",
    "calc_mean_med_max_stops(co_grouped)"
   ]
  },
  {
   "cell_type": "code",
   "execution_count": null,
   "metadata": {},
   "outputs": [],
   "source": [
    "calc_racial_ambig(co_grouped)\n",
    "\n",
    "enumerate_racial_ambig(co_grouped)"
   ]
  },
  {
   "cell_type": "code",
   "execution_count": null,
   "metadata": {},
   "outputs": [],
   "source": [
    "cogrouped_csv.head(50)"
   ]
  },
  {
   "cell_type": "markdown",
   "metadata": {},
   "source": [
    "# Calculate Stats for Racially Ambiguous Subset"
   ]
  },
  {
   "cell_type": "code",
   "execution_count": null,
   "metadata": {},
   "outputs": [],
   "source": [
    "person_race_dict = generate_person_race_dict(co_grouped)\n",
    "# make the grouping_keys into a tuple so it can be used as a key per person in person_race_dict\n",
    "tuple_lst = [tuple(keys) for keys in cogrouped_csv[config['grouping_keys']].values.tolist()]\n",
    "race_str_col = [person_race_dict[(keys)] for keys in tuple_lst]\n",
    "\n",
    "# call this new column race_str\n",
    "cogrouped_with_race_str = cogrouped_csv.copy()\n",
    "cogrouped_with_race_str.insert(2, \"race_str\", race_str_col, False)"
   ]
  },
  {
   "cell_type": "code",
   "execution_count": null,
   "metadata": {},
   "outputs": [],
   "source": [
    "stats_dict_lst = get_state_stats(cogrouped_csv, race_str_col, config['grouping_keys'])\n",
    "\n",
    "plot_state_stats(stats_dict_lst, 'CO')"
   ]
  },
  {
   "cell_type": "code",
   "execution_count": null,
   "metadata": {},
   "outputs": [],
   "source": [
    "# remove drivers with more than 10 stops\n",
    "co_with_drivers_less_than_10_stops = cogrouped_csv.groupby(config['grouping_keys']).filter(lambda x: len(x) <= 10).reset_index()\n",
    "\n",
    "# make the grouping_keys into a tuple so it can be used as a key per person in person_race_dict\n",
    "tuple_lst = [tuple(keys) for keys in co_with_drivers_less_than_10_stops[config['grouping_keys']].values.tolist()]\n",
    "race_str_col = [person_race_dict[(keys)] for keys in tuple_lst]\n",
    "\n",
    "# call this new column race_str\n",
    "# azgrouped_with_race_str = azgrouped_csv.copy()\n",
    "# azgrouped_with_race_str.insert(2, \"race_str\", race_str_col, False)\n",
    "\n",
    "stats_dict_lst = get_state_stats(co_with_drivers_less_than_10_stops, race_str_col, config['grouping_keys'])\n",
    "\n",
    "plot_state_stats(stats_dict_lst, 'CO - ' + config['descript'])"
   ]
  },
  {
   "cell_type": "code",
   "execution_count": null,
   "metadata": {},
   "outputs": [],
   "source": [
    "print(ttest_unpaired(cogrouped_with_race_str))"
   ]
  },
  {
   "cell_type": "code",
   "execution_count": null,
   "metadata": {},
   "outputs": [],
   "source": [
    "print(ttest_paired(co_grouped))"
   ]
  },
  {
   "cell_type": "markdown",
   "metadata": {},
   "source": [
    "# white-Hispanic Drivers and Regressions"
   ]
  },
  {
   "cell_type": "code",
   "execution_count": null,
   "metadata": {},
   "outputs": [],
   "source": [
    "race_str_cond = cogrouped_with_race_str['race_str'].map(lambda x:x in {\"Hispanic_White\"})\n",
    "hispanic_white_drivers = cogrouped_with_race_str.loc[race_str_cond]\n",
    "\n",
    "print(len(hispanic_white_drivers))\n",
    "print(config['hispanic_white_drivers_only_csv_name'])\n",
    "write_to_csv(hispanic_white_drivers, config['hispanic_white_drivers_only_csv_name'])"
   ]
  },
  {
   "cell_type": "code",
   "execution_count": null,
   "metadata": {},
   "outputs": [],
   "source": [
    "cogrouped_with_race_str = pd.read_csv(config['hispanic_white_drivers_only_csv_name'])\n",
    "cogrouped_with_race_str['officer_id'].value_counts()"
   ]
  },
  {
   "cell_type": "code",
   "execution_count": null,
   "metadata": {},
   "outputs": [],
   "source": [
    "co_hispanic_white_grouped = cogrouped_with_race_str.groupby(config['grouping_keys'])\n",
    "print(f'entries: {len(cogrouped_with_race_str)}')\n",
    "print(f'individuals: {len(co_hispanic_white_grouped)}')\n",
    "calc_mean_med_max_stops(co_hispanic_white_grouped)"
   ]
  },
  {
   "cell_type": "code",
   "execution_count": null,
   "metadata": {},
   "outputs": [],
   "source": [
    "res1 = regress(cogrouped_with_race_str, dep_var='search_conducted', cols=[], controls=[], model_name='No controls', useFixedEffects=True)\n",
    "res2 = regress(cogrouped_with_race_str, dep_var='search_conducted', cols=['hour_of_day'], controls=['hour_of_day'], model_name='Control for hour of day (linear)', useFixedEffects=True)\n",
    "res3 = regress(cogrouped_with_race_str, dep_var='search_conducted', cols=['hour_of_day'], controls=['hour_of_day', 'I(hour_of_day**2)', 'I(hour_of_day**3)', 'I(hour_of_day**4)'], model_name='Control for hour of day (quartic)', useFixedEffects=True)\n",
    "res4 = regress(cogrouped_with_race_str, dep_var='search_conducted', cols=['county_fips'], controls=['C(county_fips)'], model_name='Control for county', useFixedEffects=True)\n",
    "\n",
    "make_sensitivity_dot_plot([res1, res2, res3, res4], coef_to_plot = 'Hispanic', title='Sensitivity to controls in Colorado')"
   ]
  },
  {
   "cell_type": "code",
   "execution_count": null,
   "metadata": {},
   "outputs": [],
   "source": [
    "# Regressions that don't yield much\n",
    "\n",
    "# officer_id: there are over 90K officer ids\n",
    "# res5 = regress(cogrouped_with_race_str, dep_var='search_conducted', cols=['officer_id'], controls=['C(officer_id)'], model_name='Control for officer id - drop absorbed', useFixedEffects=True, drop_absorbed=True)\n"
   ]
  },
  {
   "cell_type": "markdown",
   "metadata": {},
   "source": [
    "# Years of Data in the Analysis"
   ]
  },
  {
   "cell_type": "code",
   "execution_count": null,
   "metadata": {},
   "outputs": [],
   "source": [
    "co_complete = pd.read_csv('co_grouped' + config['descript'] + '.csv')"
   ]
  },
  {
   "cell_type": "code",
   "execution_count": null,
   "metadata": {},
   "outputs": [],
   "source": [
    "co_complete['IncidentDate'].map(lambda x: x[:4]).value_counts().sort_index()"
   ]
  },
  {
   "cell_type": "code",
   "execution_count": null,
   "metadata": {},
   "outputs": [],
   "source": [
    "co_hispanic_white = pd.read_csv(config['hispanic_white_drivers_only_csv_name'])"
   ]
  },
  {
   "cell_type": "code",
   "execution_count": null,
   "metadata": {},
   "outputs": [],
   "source": [
    "co_hispanic_white['IncidentDate'].map(lambda x: x[:4]).value_counts().sort_index()"
   ]
  },
  {
   "cell_type": "markdown",
   "metadata": {},
   "source": [
    "# Comparing a Couple Subsets of the Population"
   ]
  },
  {
   "cell_type": "code",
   "execution_count": null,
   "metadata": {},
   "outputs": [],
   "source": [
    "plot_search_rates_comparison('Colorado', 'search_conducted', co_data, cogrouped_csv, cogrouped_with_race_str)\n",
    "plot_search_rates_comparison('Colorado', 'is_arrested', co_data, cogrouped_csv, cogrouped_with_race_str)"
   ]
  },
  {
   "cell_type": "markdown",
   "metadata": {},
   "source": [
    "## All Drivers, white or Hispanic"
   ]
  },
  {
   "cell_type": "code",
   "execution_count": null,
   "metadata": {},
   "outputs": [],
   "source": [
    "plot_top_5_col_values(co_data, 'violation')\n",
    "plot_top_5_col_values(co_data, 'county_name')"
   ]
  },
  {
   "cell_type": "markdown",
   "metadata": {},
   "source": [
    "## Multiply Stopped Drivers, white or Hispanic"
   ]
  },
  {
   "cell_type": "code",
   "execution_count": null,
   "metadata": {},
   "outputs": [],
   "source": [
    "plot_top_5_col_values(cogrouped_csv, 'violation')\n",
    "plot_top_5_col_values(cogrouped_csv, 'county_name')"
   ]
  },
  {
   "cell_type": "markdown",
   "metadata": {},
   "source": [
    "## Multiply Stopped Drivers with white/Hispanic Racial Ambiguity"
   ]
  },
  {
   "cell_type": "code",
   "execution_count": null,
   "metadata": {},
   "outputs": [],
   "source": [
    "plot_top_5_col_values(cogrouped_with_race_str, 'violation')\n",
    "plot_top_5_col_values(cogrouped_with_race_str, 'county_name')"
   ]
  }
 ],
 "metadata": {
  "kernelspec": {
   "display_name": "Python [conda env:.conda-myenv2] *",
   "language": "python",
   "name": "conda-env-.conda-myenv2-py"
  },
  "language_info": {
   "codemirror_mode": {
    "name": "ipython",
    "version": 3
   },
   "file_extension": ".py",
   "mimetype": "text/x-python",
   "name": "python",
   "nbconvert_exporter": "python",
   "pygments_lexer": "ipython3",
   "version": "3.11.8"
  }
 },
 "nbformat": 4,
 "nbformat_minor": 2
}
